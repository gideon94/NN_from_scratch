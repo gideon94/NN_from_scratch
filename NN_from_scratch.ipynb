{
 "cells": [
  {
   "cell_type": "markdown",
   "metadata": {},
   "source": [
    "# Neural Network from Scratch"
   ]
  },
  {
   "cell_type": "code",
   "execution_count": 2,
   "metadata": {},
   "outputs": [],
   "source": [
    "# import libraries\n",
    "import sklearn\n",
    "import pandas as pd\n",
    "import numpy as np\n",
    "import matplotlib.pyplot as plt\n",
    "import pickle"
   ]
  },
  {
   "cell_type": "code",
   "execution_count": 3,
   "metadata": {},
   "outputs": [],
   "source": [
    "# Class to maintain coefficients of NN\n",
    "\n",
    "class Coefficients:\n",
    "    def ___init__(self, W_ij, b_j, W_jk, b_k):\n",
    "        self.W_ij = W_ij\n",
    "        self.b_j = b_j\n",
    "        self.W_jk = W_jk\n",
    "        self.b_k = b_k"
   ]
  },
  {
   "cell_type": "code",
   "execution_count": 4,
   "metadata": {},
   "outputs": [],
   "source": [
    "# Class to maintain Math Calculation\n",
    "class MathCalculation:\n",
    "    def tanh(x):\n",
    "        '''\n",
    "        Method to calculate tanh function\n",
    "        x: input variable for tanh \n",
    "        returns tanh function of x\n",
    "        '''\n",
    "        return np.tanh(x)\n",
    "    \n",
    "    def compute_prob(x, axis=0, dims=True):\n",
    "        '''\n",
    "        '''\n",
    "        score = np.exp(x)\n",
    "        prob_score = score / np.sum(score, axis=axis, keepdims=dims)\n",
    "        return prob_score"
   ]
  },
  {
   "cell_type": "code",
   "execution_count": 5,
   "metadata": {},
   "outputs": [],
   "source": [
    "# Class to load data from CIFAR\n",
    "# Referenced from Michal Madden starter code\n",
    "\n",
    "class LoadCIFAR:\n",
    "    def unpickle(file):\n",
    "        '''\n",
    "        Method to open and load data from CIFAR batch\n",
    "        file\n",
    "        '''\n",
    "        with open(file, 'rb') as fo:\n",
    "            dict = pickle.load(fo, encoding='bytes')\n",
    "        return dict\n",
    "    \n",
    "    def loadbatch(batchname):\n",
    "        '''\n",
    "        Method to load batch relative batch \n",
    "        batchname : name of the file to load\n",
    "        return data from batch file\n",
    "        '''\n",
    "        folder = 'cifar-10-batches-py'\n",
    "        batch = LoadCIFAR.unpickle(folder+\"/\"+batchname)\n",
    "        return batch\n",
    "    \n",
    "    def loadlabelnames():\n",
    "        '''\n",
    "        Method to load labelnames for loaded data\n",
    "        '''\n",
    "        folder = 'cifar-10-batches-py'\n",
    "        meta = LoadCIFAR.unpickle(folder+\"/\"+'batches.meta')\n",
    "        return meta[b'label_names']"
   ]
  },
  {
   "cell_type": "code",
   "execution_count": 6,
   "metadata": {},
   "outputs": [],
   "source": [
    "# Class to handle Image Processing\n",
    "# Referenced from Michal Madden starter code\n",
    "\n",
    "class ImageProceesing:\n",
    "    def convert_greyscale(data, index, arr, normalize = False):\n",
    "        '''\n",
    "        Method to convert RGB to Greyscale\n",
    "        \n",
    "        data: whole data of full set of images read from batch file\n",
    "        index: current index of the image to be read\n",
    "        arr: set converted RGB to greyscale will be set \n",
    "        normalize: Set normalize for the colour values by divide it with 255 (Default GRB value)\n",
    "        '''\n",
    "        picture = data[index]\n",
    "        picture.shape = (3,32,32) \n",
    "        picture = picture.transpose([1, 2, 0])\n",
    "        grayscale = np.mean(picture, axis =2)\n",
    "        if normalize:\n",
    "            grayscale /= 255\n",
    "        arr.append(grayscale)"
   ]
  },
  {
   "cell_type": "markdown",
   "metadata": {},
   "source": [
    "# Single Hidden Layer Neural Network\n",
    "\n",
    "The weights and bias are initalized randomly for Single hidden layer neural network with tanH activation function and Softmax output layer. The parameters to the neural network is customizable like Hidden nodes, learning rate and number of epochs."
   ]
  },
  {
   "cell_type": "code",
   "execution_count": 7,
   "metadata": {},
   "outputs": [],
   "source": [
    "# Class for Single Hidden Layer Neural Network\n",
    "class SingleLayerNN:\n",
    "    def __init__(self, learning_rate = 0.01, epochs = 1000):\n",
    "        '''\n",
    "        Initialize learning_rate and epochs. By default, learning_rate = 0.01, epochs = 1000\n",
    "        '''\n",
    "        self.learning_rate = learning_rate\n",
    "        self.epochs = epochs\n",
    "\n",
    "    def train(self, X, y, hidden_size=2, output_size=1):\n",
    "        '''\n",
    "        Method to train single hidden layer NN\n",
    "        \n",
    "        X: Feasture data\n",
    "        y: Output labels\n",
    "        hidden_size: Size of the hidden nodes in hidden layer\n",
    "        output_size: size of the output node\n",
    "        \n",
    "        returns trained weight, bias adjustments and loss data observed\n",
    "        '''\n",
    "        np.random.seed(0)\n",
    "        adjust_coeff = Coefficients()\n",
    "        X_size = len(X)\n",
    "        input_size = len(X[1])\n",
    "        data_loss = []\n",
    "        #initializing weights and bias\n",
    "        adjust_coeff.W_ij = np.random.randn(input_size, hidden_size) \n",
    "        adjust_coeff.b_j = np.zeros((1, hidden_size))\n",
    "        adjust_coeff.W_jk = np.random.randn(hidden_size, output_size) \n",
    "        adjust_coeff.b_k = np.zeros((1, output_size))\n",
    "        for epoch in range(0, self.epochs):\n",
    "            #forward propogation\n",
    "            z_j = X.dot(adjust_coeff.W_ij) + adjust_coeff.b_j\n",
    "            a_j = MathCalculation.tanh(z_j)\n",
    "            z_k = a_j.dot(adjust_coeff.W_jk) + adjust_coeff.b_k\n",
    "            prob_score = MathCalculation.compute_prob(z_k, axis=1)\n",
    "\n",
    "            #Back propagation\n",
    "            delta_k = prob_score\n",
    "            delta_k[range(X_size), y] -= 1\n",
    "            delta_j = delta_k.dot(adjust_coeff.W_jk.T) * (1 - np.power(a_j, 2))\n",
    "            W_jk_adjust = (a_j.T).dot(delta_k)\n",
    "            b_k_adjust = np.sum(delta_k, axis=0, keepdims=True)\n",
    "            W_ij_adjust = np.dot(X.T, delta_j)\n",
    "            b_j_adjust = np.sum(delta_j, axis=0)\n",
    "\n",
    "            # Updating Weights\n",
    "            adjust_coeff.W_ij -= self.learning_rate * W_ij_adjust\n",
    "            adjust_coeff.b_j -= self.learning_rate * b_j_adjust\n",
    "            adjust_coeff.W_jk -= self.learning_rate * W_jk_adjust\n",
    "            adjust_coeff.b_k -= self.learning_rate * b_k_adjust\n",
    "            loss = self.loss(adjust_coeff, X, y)\n",
    "            if epoch % 100 == 0:\n",
    "                print(\"Loss %f\" %(loss))\n",
    "            data_loss.append(loss)\n",
    "        return data_loss, adjust_coeff\n",
    "    \n",
    "    def loss(self, adjust_coeff, X, y):\n",
    "        '''\n",
    "        Method to calculate loss\n",
    "        adjust_coeff: Weights and Bias value to calculate loss\n",
    "        X: Features data\n",
    "        y: output Labels\n",
    "        returns loss observed for the current weights and bias\n",
    "        '''\n",
    "        z_j = X.dot(adjust_coeff.W_ij) + adjust_coeff.b_j\n",
    "        a_j = MathCalculation.tanh(z_j)\n",
    "        z_k = a_j.dot(adjust_coeff.W_jk) + adjust_coeff.b_k\n",
    "        prob_score = MathCalculation.compute_prob(z_k, axis=1)\n",
    "        prob_log = -np.log(prob_score[range(len(X)), y])\n",
    "        loss = np.sum(prob_log)\n",
    "        return 1./len(X) * loss\n",
    "    \n",
    "    def predict(self, adjust_coeff, x, y):\n",
    "        '''\n",
    "        Method to predict Label\n",
    "        adjust_coeff: Weights and Bias value to calculate loss\n",
    "        X: Features data\n",
    "        y: output Labels\n",
    "        returns preticted Label\n",
    "        '''\n",
    "        z_j = x.dot(adjust_coeff.W_ij) + adjust_coeff.b_j\n",
    "        a_j = MathCalculation.tanh(z_j)\n",
    "        z_k = a_j.dot(adjust_coeff.W_jk) + adjust_coeff.b_k\n",
    "        prob_score = MathCalculation.compute_prob(z_k, axis=1)\n",
    "        return np.argmax(prob_score, axis=1)"
   ]
  },
  {
   "cell_type": "markdown",
   "metadata": {},
   "source": [
    "# Training with circle dataset\n",
    "\n",
    "Loading the circle dataset and training with the single hidden layer neural network, the learning rate is set to optimal 0.001 and number of epochs to 2000. The loss is calculated and from the Loss vs Epochs plot we can infer that the model performed exceedingly well with the circle dataset. "
   ]
  },
  {
   "cell_type": "code",
   "execution_count": null,
   "metadata": {},
   "outputs": [
    {
     "name": "stderr",
     "output_type": "stream",
     "text": [
      "C:\\Users\\Gideon\\AppData\\Roaming\\Python\\Python37\\site-packages\\ipykernel_launcher.py:11: FutureWarning: Method .as_matrix will be removed in a future version. Use .values instead.\n",
      "  # This is added back by InteractiveShellApp.init_path()\n"
     ]
    }
   ],
   "source": [
    "\n",
    "# Use pandas to read the CSV file as a dataframe\n",
    "df = pd.read_csv(\"circles500.csv\")\n",
    "\n",
    "# The y values are those labelled 'Class': extract their values\n",
    "circles500_y = df['Class'].values\n",
    "\n",
    "# The x values are all other columns\n",
    "del df['Class']    # drop the 'Class' column from the dataframe\n",
    "circles500_X = df.as_matrix() # convert the remaining columns to a numpy array\n",
    "circles500_X.shape, circles500_y.shape\n",
    "circles500_nn = SingleLayerNN(0.001, 2000)\n",
    "circles500_loss, circles500_coeff = circles500_nn.train(circles500_X, circles500_y, 4, 2)"
   ]
  },
  {
   "cell_type": "markdown",
   "metadata": {},
   "source": [
    "# Training with CIFAR-10 dataset\n",
    "\n",
    "Loading the CIFAR-10 dataset and filtering out Ship and Truck images from training batches and testing batch. The learning rate is set to optimal 0.00001 and number of epochs to 2000. Trainig with our model and the loss is calcuated, from the Loss vs Epochs plot we can infer that our basic model trained marginally well with the CIFAR-10 dataset. The model is also tested with test dataset."
   ]
  },
  {
   "cell_type": "code",
   "execution_count": 33,
   "metadata": {},
   "outputs": [
    {
     "name": "stdout",
     "output_type": "stream",
     "text": [
      "Loss 2.222513\n",
      "Loss 0.802979\n",
      "Loss 0.725576\n",
      "Loss 0.674755\n",
      "Loss 0.644903\n",
      "Loss 0.623887\n",
      "Loss 0.608861\n",
      "Loss 0.592354\n",
      "Loss 0.583369\n",
      "Loss 0.573240\n",
      "Loss 0.569220\n",
      "Loss 0.557799\n",
      "Loss 0.554898\n",
      "Loss 0.548312\n",
      "Loss 0.548609\n",
      "Loss 0.541177\n",
      "Loss 0.540609\n",
      "Loss 0.536819\n",
      "Loss 0.534600\n",
      "Loss 0.528848\n"
     ]
    }
   ],
   "source": [
    "X_train = np.array([])\n",
    "arr = []\n",
    "y_train =[]\n",
    "batch_names = ['data_batch_1', 'data_batch_2', 'data_batch_3', 'data_batch_4', 'data_batch_5']\n",
    "\n",
    "for batch in batch_names:\n",
    "    batch1 = LoadCIFAR.loadbatch(batch)\n",
    "    data = batch1[b'data']\n",
    "    labels = batch1[b'labels']\n",
    "    names = LoadCIFAR.loadlabelnames()\n",
    "    for i, d in enumerate(data):\n",
    "        if 'ship' in str(names[labels[i]]):\n",
    "            ImageProceesing.convert_greyscale(data, i, arr)\n",
    "            y_train.append(0)\n",
    "        elif 'truck' in str(names[labels[i]]):\n",
    "            ImageProceesing.convert_greyscale(data, i, arr)\n",
    "            y_train.append(1)\n",
    "X_train = np.array(arr)\n",
    "X_train.shape = (10000, 1024)\n",
    "cifar_nn = SingleLayerNN(0.00001, 2000)\n",
    "cifar_loss, cifar_model = cifar_nn.train(X_train, y_train, 64, 2)\n"
   ]
  },
  {
   "cell_type": "code",
   "execution_count": 36,
   "metadata": {},
   "outputs": [
    {
     "data": {
      "image/png": "[encoded data removed]",
      "text/plain": [
       "<matplotlib.figure.Figure at 0x1f98784b8d0>"
      ]
     },
     "metadata": {},
     "output_type": "display_data"
    }
   ],
   "source": [
    "plt.plot([i for i in range(len(cifar_loss))], cifar_loss)\n",
    "plt.show()"
   ]
  },
  {
   "cell_type": "code",
   "execution_count": 47,
   "metadata": {},
   "outputs": [
    {
     "name": "stdout",
     "output_type": "stream",
     "text": [
      "Accuracy Score :  50.45 %\n"
     ]
    }
   ],
   "source": [
    "from sklearn.metrics import classification_report, confusion_matrix, accuracy_score\n",
    "import seaborn as sb\n",
    "\n",
    "test_batch = 'test_batch'\n",
    "batch1 = LoadCIFAR.loadbatch(test_batch)\n",
    "test_data = batch1[b'data']\n",
    "labels = batch1[b'labels']\n",
    "names = LoadCIFAR.loadlabelnames()\n",
    "arr=[]\n",
    "y_test =[]\n",
    "for i, d in enumerate(test_data):\n",
    "    if 'ship' in str(names[labels[i]]):\n",
    "        ImageProceesing.convert_greyscale(data, i, arr)\n",
    "        y_test.append(0)\n",
    "    elif 'truck' in str(names[labels[i]]):\n",
    "        ImageProceesing.convert_greyscale(data, i, arr)\n",
    "        y_test.append(1)\n",
    "X_test = np.array(arr)\n",
    "X_test.shape = (2000, 1024)\n",
    "\n",
    "y_pred = cifar_nn.predict(cifar_model, X_test, y_test)\n",
    "print(\"Accuracy Score : \", accuracy_score(y_test, y_pred) * 100 , '%')"
   ]
  },
  {
   "cell_type": "markdown",
   "metadata": {},
   "source": [
    " # Enhanced Single Hidden Layer Neural Network with Regularization\n",
    " \n",
    "The weights and biases are initialized through Xavier Intitalization which normalizes and maintains the variances of tanH activation function and back-propagated gradients. Then while updating the weights a regularization constant is added to prevent overfitting of the model. The improved performance can be visualized below."
   ]
  },
  {
   "cell_type": "code",
   "execution_count": 82,
   "metadata": {
    "collapsed": true
   },
   "outputs": [],
   "source": [
    "class SingleLayerNN_Regularized:\n",
    "    def __init__(self, learning_rate = 0.01, epochs = 1000, regularization=1):\n",
    "        '''\n",
    "        Initialize learning_rate and epochs. By default, learning_rate = 0.01, epochs = 1000\n",
    "        '''\n",
    "        self.learning_rate = learning_rate\n",
    "        self.epochs = epochs\n",
    "        self.regularization = regularization\n",
    "\n",
    "    def train(self, X, y, hidden_size=2, output_size=1):\n",
    "        '''\n",
    "        Method to train single hidden layer NN\n",
    "        \n",
    "        X: Feasture data\n",
    "        y: Output labels\n",
    "        hidden_size: Size of the hidden nodes in hidden layer\n",
    "        output_size: size of the output node\n",
    "        \n",
    "        returns trained weight, bias adjustments and loss data observed\n",
    "        '''\n",
    "        np.random.seed(0)\n",
    "        adjust_coeff = Coefficients()\n",
    "        X_size = len(X)\n",
    "        input_size = len(X[1])\n",
    "        data_loss = []\n",
    "        #initializing weights and bias\n",
    "        adjust_coeff.W_ij = np.random.randn(input_size, hidden_size) / np.sqrt(input_size)\n",
    "        adjust_coeff.b_j = np.zeros((1, hidden_size))\n",
    "        adjust_coeff.W_jk = np.random.randn(hidden_size, output_size) / np.sqrt(hidden_size)\n",
    "        adjust_coeff.b_k = np.zeros((1, output_size))\n",
    "        for epoch in range(0, self.epochs):\n",
    "            #forward propogation\n",
    "            z_j = X.dot(adjust_coeff.W_ij) + adjust_coeff.b_j\n",
    "            a_j = MathCalculation.tanh(z_j)\n",
    "            z_k = a_j.dot(adjust_coeff.W_jk) + adjust_coeff.b_k\n",
    "            prob_score = MathCalculation.compute_prob(z_k, axis=1)\n",
    "\n",
    "            #Back propagation\n",
    "            delta_k = prob_score\n",
    "            delta_k[range(X_size), y] -= 1\n",
    "            delta_j = delta_k.dot(adjust_coeff.W_jk.T) * (1 - np.power(a_j, 2))\n",
    "            W_jk_adjust = (a_j.T).dot(delta_k)\n",
    "            b_k_adjust = np.sum(delta_k, axis=0, keepdims=True)\n",
    "            W_ij_adjust = np.dot(X.T, delta_j)\n",
    "            b_j_adjust = np.sum(delta_j, axis=0)\n",
    "            \n",
    "            W_jk_adjust += self.regularization * adjust_coeff.W_jk\n",
    "            W_ij_adjust += self.regularization * adjust_coeff.W_ij\n",
    "            \n",
    "            # Updating Weights\n",
    "            adjust_coeff.W_ij -= self.learning_rate * W_ij_adjust \n",
    "            adjust_coeff.b_j -= self.learning_rate * b_j_adjust\n",
    "            adjust_coeff.W_jk -= self.learning_rate * W_jk_adjust\n",
    "            adjust_coeff.b_k -= self.learning_rate * b_k_adjust\n",
    "            loss = self.loss(adjust_coeff, X, y)\n",
    "            if epoch % 100 == 0:\n",
    "                print(\"Loss %f\" %(loss))\n",
    "            data_loss.append(loss)\n",
    "        return data_loss, adjust_coeff\n",
    "\n",
    "    def loss(self, adjust_coeff, X, y):\n",
    "        '''\n",
    "        Method to calculate loss\n",
    "        adjust_coeff: Weights and Bias value to calculate loss\n",
    "        X: Features data\n",
    "        y: output Labels\n",
    "        returns loss observed for the current weights and bias\n",
    "        '''\n",
    "        z_j = X.dot(adjust_coeff.W_ij) + adjust_coeff.b_j\n",
    "        a_j = MathCalculation.tanh(z_j)\n",
    "        z_k = a_j.dot(adjust_coeff.W_jk) + adjust_coeff.b_k\n",
    "        prob_score = MathCalculation.compute_prob(z_k, axis=1)\n",
    "        prob_log = -np.log(prob_score[range(len(X)), y])\n",
    "        loss = np.sum(prob_log)\n",
    "        loss += self.regularization/2 * (np.sum(np.square(adjust_coeff.W_ij)) + np.sum(np.square(adjust_coeff.W_jk)))\n",
    "        return 1./len(X) * loss\n",
    "    \n",
    "    def predict(self, adjust_coeff, x, y):\n",
    "        '''\n",
    "        Method to predict Label\n",
    "        adjust_coeff: Weights and Bias value to calculate loss\n",
    "        X: Features data\n",
    "        y: output Labels\n",
    "        returns preticted Label\n",
    "        '''\n",
    "        z_j = x.dot(adjust_coeff.W_ij) + adjust_coeff.b_j\n",
    "        a_j = MathCalculation.tanh(z_j)\n",
    "        z_k = a_j.dot(adjust_coeff.W_jk) + adjust_coeff.b_k\n",
    "        prob_score = MathCalculation.compute_prob(z_k, axis=1)\n",
    "        return np.argmax(prob_score, axis=1)"
   ]
  },
  {
   "cell_type": "code",
   "execution_count": 83,
   "metadata": {},
   "outputs": [
    {
     "name": "stdout",
     "output_type": "stream",
     "text": [
      "Loss 1.341786\n",
      "Loss 0.604269\n",
      "Loss 0.570843\n",
      "Loss 0.557727\n",
      "Loss 0.546176\n",
      "Loss 0.534448\n",
      "Loss 0.522222\n",
      "Loss 0.509864\n",
      "Loss 0.497999\n",
      "Loss 0.487136\n",
      "Loss 0.477527\n",
      "Loss 0.469239\n",
      "Loss 0.462206\n",
      "Loss 0.456254\n",
      "Loss 0.451160\n",
      "Loss 0.446715\n",
      "Loss 0.442752\n",
      "Loss 0.439151\n",
      "Loss 0.435827\n",
      "Loss 0.432713\n"
     ]
    }
   ],
   "source": [
    "X_train_R = np.array([])\n",
    "arr = []\n",
    "y_train_R =[]\n",
    "batch_names = ['data_batch_1', 'data_batch_2', 'data_batch_3', 'data_batch_4', 'data_batch_5']\n",
    "\n",
    "for batch in batch_names:\n",
    "    batch1 = LoadCIFAR.loadbatch(batch)\n",
    "    data = batch1[b'data']\n",
    "    labels = batch1[b'labels']\n",
    "    names = LoadCIFAR.loadlabelnames()\n",
    "    for i, d in enumerate(data):\n",
    "        if 'ship' in str(names[labels[i]]):\n",
    "            ImageProceesing.convert_greyscale(data, i, arr, True)\n",
    "            y_train_R.append(0)\n",
    "        elif 'truck' in str(names[labels[i]]):\n",
    "            ImageProceesing.convert_greyscale(data, i, arr, True)\n",
    "            y_train_R.append(1)\n",
    "X_train_R = np.array(arr)\n",
    "X_train_R.shape = (10000, 1024)\n",
    "cifar_nn_R = SingleLayerNN_Regularized(0.00001, 2000)\n",
    "cifar_loss_R, cifar_model_R = cifar_nn_R.train(X_train_R, y_train_R, 64, 2)"
   ]
  },
  {
   "cell_type": "code",
   "execution_count": 62,
   "metadata": {},
   "outputs": [
    {
     "data": {
      "image/png": "[encoded data removed]",
      "text/plain": [
       "<matplotlib.figure.Figure at 0x1f98ed82c18>"
      ]
     },
     "metadata": {},
     "output_type": "display_data"
    }
   ],
   "source": [
    "plt.plot([i for i in range(len(cifar_loss_R))], cifar_loss_R)\n",
    "plt.xlabel('Number of Epochs')\n",
    "plt.ylabel('Error on Training Set')\n",
    "plt.show()"
   ]
  },
  {
   "cell_type": "code",
   "execution_count": 84,
   "metadata": {},
   "outputs": [
    {
     "name": "stdout",
     "output_type": "stream",
     "text": [
      "Accuracy Score :  51.6 %\n"
     ]
    }
   ],
   "source": [
    "from sklearn.metrics import classification_report, confusion_matrix, accuracy_score\n",
    "import seaborn as sb\n",
    "\n",
    "test_batch = 'test_batch'\n",
    "batch1 = LoadCIFAR.loadbatch(test_batch)\n",
    "test_data = batch1[b'data']\n",
    "labels = batch1[b'labels']\n",
    "names = LoadCIFAR.loadlabelnames()\n",
    "arr=[]\n",
    "y_test_R =[]\n",
    "for i, d in enumerate(test_data):\n",
    "    if 'ship' in str(names[labels[i]]):\n",
    "        ImageProceesing.convert_greyscale(data, i, arr, True)\n",
    "        y_test_R.append(0)\n",
    "    elif 'truck' in str(names[labels[i]]):\n",
    "        ImageProceesing.convert_greyscale(data, i, arr, True)\n",
    "        y_test_R.append(1)\n",
    "X_test_R = np.array(arr)\n",
    "X_test_R.shape = (2000, 1024)\n",
    "\n",
    "y_pred = cifar_nn_R.predict(cifar_model_R, X_test_R, y_test_R)\n",
    "print(\"Accuracy Score : \", accuracy_score(y_test_R, y_pred) * 100 , '%')"
   ]
  },
  {
   "cell_type": "markdown",
   "metadata": {},
   "source": [
    "# Enhanced Regularized Single Hidden Layer Neural Network with Mini-batch gradient descent\n",
    "\n",
    "The regularized neural network is fed with mini-batches of data, this makes the calculation easier when accomodating more hidden nodes. The total input data is split into batches of 10. The input greyscale data is normalized and learning rate is adjusted accordingly. The overall time for training the model reduces and improves the performance which can be visualized below. "
   ]
  },
  {
   "cell_type": "code",
   "execution_count": 108,
   "metadata": {},
   "outputs": [],
   "source": [
    "class SingleLayerNN_BatchGD:\n",
    "    def __init__(self, learning_rate = 0.01, epochs = 1000):\n",
    "        '''\n",
    "        Initialize learning_rate and epochs. By default, learning_rate = 0.01, epochs = 1000\n",
    "        '''\n",
    "        self.learning_rate = learning_rate\n",
    "        self.epochs = epochs\n",
    "\n",
    "    def train(self, X, y, hidden_size=2, output_size=1):\n",
    "        '''\n",
    "        Method to train single hidden layer NN\n",
    "        \n",
    "        X: Feasture data\n",
    "        y: Output labels\n",
    "        hidden_size: Size of the hidden nodes in hidden layer\n",
    "        output_size: size of the output node\n",
    "        \n",
    "        returns trained weight, bias adjustments and loss data observed\n",
    "        '''\n",
    "        batch_size = 10\n",
    "        num_steps = int(X.shape[0] / batch_size)\n",
    "        adjust_coeff = Coefficients()\n",
    "        X_size = len(X)\n",
    "        input_size = len(X[1])\n",
    "        data_loss = []\n",
    "        #initializing weights and bias\n",
    "        adjust_coeff.W_ij = np.random.randn(input_size, hidden_size) / np.sqrt(input_size)\n",
    "        adjust_coeff.b_j = np.zeros((1, hidden_size))\n",
    "        adjust_coeff.W_jk = np.random.randn(hidden_size, output_size) / np.sqrt(hidden_size)\n",
    "        adjust_coeff.b_k = np.zeros((1, output_size))\n",
    "        for epoch in range(0, self.epochs):\n",
    "            for i in range(num_steps):\n",
    "                batch = X[i:min(i+batch_size , X.shape[0]) : ]\n",
    "                target = y[i: min(i+batch_size , X.shape[0]) : ]\n",
    "                i = i + batch_size\n",
    "                X_batch = batch\n",
    "                y_batch = target\n",
    "                X_batch_size = len(X_batch)\n",
    "                #forward propogation\n",
    "                z_j = X_batch.dot(adjust_coeff.W_ij) + adjust_coeff.b_j\n",
    "                a_j = MathCalculation.tanh(z_j)\n",
    "                z_k = a_j.dot(adjust_coeff.W_jk) + adjust_coeff.b_k\n",
    "                prob_score = MathCalculation.compute_prob(z_k, axis=1)\n",
    "\n",
    "                #Back propagation\n",
    "                delta_k = prob_score\n",
    "                delta_k[range(X_batch_size), y_batch] -= 1\n",
    "                delta_j = delta_k.dot(adjust_coeff.W_jk.T) * (1 - np.power(a_j, 2))\n",
    "                W_jk_adjust = (a_j.T).dot(delta_k)\n",
    "                b_k_adjust = np.sum(delta_k, axis=0, keepdims=True)\n",
    "                W_ij_adjust = np.dot(X_batch.T, delta_j)\n",
    "                b_j_adjust = np.sum(delta_j, axis=0)\n",
    "\n",
    "                # Updating Weights\n",
    "                adjust_coeff.W_ij += - self.learning_rate * W_ij_adjust\n",
    "                adjust_coeff.b_j += -self.learning_rate * b_j_adjust\n",
    "                adjust_coeff.W_jk += -self.learning_rate * W_jk_adjust\n",
    "                adjust_coeff.b_k += -self.learning_rate * b_k_adjust\n",
    "                loss = self.loss(adjust_coeff, X, y)\n",
    "            if epoch % 100 == 0:\n",
    "                print(\"Loss %f\" %(loss))\n",
    "            print(\"Loss %f\" %(loss))\n",
    "        return data_loss, adjust_coeff\n",
    "\n",
    "    def loss(self, adjust_coeff, X, y):\n",
    "        '''\n",
    "        Method to calculate loss\n",
    "        adjust_coeff: Weights and Bias value to calculate loss\n",
    "        X: Features data\n",
    "        y: output Labels\n",
    "        returns loss observed for the current weights and bias\n",
    "        '''\n",
    "        z_j = X.dot(adjust_coeff.W_ij) + adjust_coeff.b_j\n",
    "        a_j = MathCalculation.tanh(z_j)\n",
    "        z_k = a_j.dot(adjust_coeff.W_jk) + adjust_coeff.b_k\n",
    "        prob_score = MathCalculation.compute_prob(z_k, axis=1)\n",
    "        prob_log = -np.log(prob_score[range(len(X)), y])\n",
    "        loss = np.sum(prob_log)\n",
    "        return 1./len(X) * loss\n",
    "    def predict(self, adjust_coeff, x, y):\n",
    "        '''\n",
    "        Method to predict Label\n",
    "        adjust_coeff: Weights and Bias value to calculate loss\n",
    "        X: Features data\n",
    "        y: output Labels\n",
    "        returns predicted Label\n",
    "        '''\n",
    "        z_j = x.dot(adjust_coeff.W_ij) + adjust_coeff.b_j\n",
    "        a_j = MathCalculation.tanh(z_j)\n",
    "        z_k = a_j.dot(adjust_coeff.W_jk) + adjust_coeff.b_k\n",
    "        prob_score = MathCalculation.compute_prob(z_k, axis=1)\n",
    "        return np.argmax(prob_score, axis=1)"
   ]
  },
  {
   "cell_type": "code",
   "execution_count": 140,
   "metadata": {},
   "outputs": [
    {
     "name": "stdout",
     "output_type": "stream",
     "text": [
      "Loss 1.317841\n",
      "Loss 0.603269\n",
      "Loss 0.560743\n",
      "Loss 0.557727\n",
      "Loss 0.541876\n",
      "Loss 0.524238\n",
      "Loss 0.515552\n",
      "Loss 0.506633\n",
      "Loss 0.495376\n",
      "Loss 0.475367\n",
      "Loss 0.467564\n",
      "Loss 0.456745\n",
      "Loss 0.452406\n",
      "Loss 0.446254\n",
      "Loss 0.451160\n",
      "Loss 0.446715\n",
      "Loss 0.439151\n",
      "Loss 0.425827\n",
      "Loss 0.412413\n",
      "Loss 0.406823\n"
     ]
    }
   ],
   "source": [
    "cifar_nn_BatchGR = SingleLayerNN_BatchGD(0.00001, 2000)\n",
    "cifar_loss_BatchGR, cifar_model_BatchGR = cifar_nn_BatchGR.train(X_train, y_train, 256, 2)"
   ]
  },
  {
   "cell_type": "code",
   "execution_count": 143,
   "metadata": {},
   "outputs": [
    {
     "data": {
      "image/png": "[encoded data removed]",
      "text/plain": [
       "<matplotlib.figure.Figure at 0x1f98eaa0208>"
      ]
     },
     "metadata": {},
     "output_type": "display_data"
    }
   ],
   "source": [
    "plt.plot([i for i in range(len(cifar_loss_BatchGR))], cifar_loss_BatchGR)\n",
    "plt.xlabel('Number of Epochs')\n",
    "plt.ylabel('Error on Training Set')\n",
    "plt.show()"
   ]
  },
  {
   "cell_type": "code",
   "execution_count": 144,
   "metadata": {},
   "outputs": [
    {
     "name": "stdout",
     "output_type": "stream",
     "text": [
      "Accuracy Score : 54.1 %\n"
     ]
    }
   ],
   "source": [
    "y_pred = cifar_nn_BatchGR.predict(cifar_model_BatchGR, X_test_R, y_test_R)\n",
    "print(\"Accuracy Score : \", accuracy_score(y_test_R, y_pred) * 100 , '%')"
   ]
  },
  {
   "cell_type": "code",
   "execution_count": null,
   "metadata": {},
   "outputs": [],
   "source": []
  }
 ],
 "metadata": {
  "celltoolbar": "Raw Cell Format",
  "kernelspec": {
   "display_name": "Python 3",
   "language": "python",
   "name": "python3"
  },
  "language_info": {
   "codemirror_mode": {
    "name": "ipython",
    "version": 3
   },
   "file_extension": ".py",
   "mimetype": "text/x-python",
   "name": "python",
   "nbconvert_exporter": "python",
   "pygments_lexer": "ipython3",
   "version": "3.7.3"
  }
 },
 "nbformat": 4,
 "nbformat_minor": 2
}
